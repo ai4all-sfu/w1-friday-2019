{
 "cells": [
  {
   "cell_type": "markdown",
   "metadata": {},
   "source": [
    "# Computer Vision\n",
    "\n",
    "Computers are now able to process images automatically. We see this in apps like SnapChat that can automatically detect where our face is in the image. In this lesson, we'll learn about how **image processing** works at a basic level.\n",
    "\n",
    "## Features\n",
    "\n",
    "Let's go back to features, which we talked about earlier. Remember our Spotify exercise in Day 1? We saw that for songs, features included things like loudness, acousticness, tempo, etc. \n",
    "\n",
    "**Features** are also very important in image processing, to be able to simplify a complex image (say, of 200x200 pixels = 40,000 data points) into its most characteristic form (maybe 20 points.)\n",
    "\n",
    "**Corners** have traditionally been a popular type of feature in computer vision. Let's see an example of how this works. \n",
    "\n",
    "## What is a cow?\n",
    "\n",
    "Do a google search for [Picasso's Bulls](https://www.google.ca/search?q=picasso%27s+bulls&source=lnms&sa=X&ved=0ahUKEwj43cOdiODbAhU_IjQIHQaxDawQ_AUICSgA&biw=1264&bih=799&dpr=1) and notice how we are able to recognize this animal with just a few lines and crossings arranged in a certain way. Other visual features used in Computer Vision include edges, corners, and blobs.\n",
    "\n",
    "\n",
    "## Feature Extraction\n",
    "\n",
    "Before doing machine learning, we need to perform **feature extraction**, to convert an image into a set of features. This is a big topic and we will just cover the basics here of image representation and processing here. But the pipeline usually works like this:\n",
    "\n",
    "Feature Extraction > Machine Learning > Evaluation\n",
    "\n",
    "For further information about this, see the Computer Vision project in Week 2. \n",
    "\n",
    "\n",
    "\n",
    "## Image Processing Basics\n",
    "\n",
    "First, it helps to understand how an picture is represented on a computer.\n",
    "The basic datastructure for this is a 2-dimensional array of a certain width and height, where color values are stored for each point on a grid of (x,y) positions. These points that a picture is made of are called pixels (short form of \"picture element\").\n",
    "Each pixel in a picture has three values to describe a mixture or red, green, blue (RGB for short) that make up a colour. "
   ]
  },
  {
   "cell_type": "markdown",
   "metadata": {},
   "source": [
    "## Image Magic Exercise"
   ]
  },
  {
   "cell_type": "markdown",
   "metadata": {},
   "source": [
    "Here are your two input images."
   ]
  },
  {
   "cell_type": "code",
   "execution_count": null,
   "metadata": {
    "scrolled": false
   },
   "outputs": [],
   "source": [
    "from IPython.display import Image\n",
    "Image(filename='img/beach.jpg')"
   ]
  },
  {
   "cell_type": "code",
   "execution_count": null,
   "metadata": {
    "scrolled": false
   },
   "outputs": [],
   "source": [
    "Image(filename='img/kid-green.jpg')"
   ]
  },
  {
   "cell_type": "code",
   "execution_count": null,
   "metadata": {
    "scrolled": true
   },
   "outputs": [],
   "source": [
    "# Combining two images\n",
    "# Description: Takes as input 2 photos, one with an object/person in front\n",
    "# of a green screen, and another as background. The output is a photo\n",
    "# of the object/person in front of the background.\n",
    "\n",
    "# Import necessary image processing libraries/packages or modules\n",
    "import IPython\n",
    "from PIL import Image as PILImage\n",
    "\n",
    "# A function that returns True if the r, g, b values combine to green\n",
    "# Input: r - red channel (0 to 255 inclusive)\n",
    "#        g - green channel (0 to 255 inclusive)\n",
    "#        b - blue channel (0 to 255 inclusive)\n",
    "# Returns: True if green, False if not green\n",
    "\n",
    "def is_green(r, g, b):\n",
    "  if r < 25 and r >= 0 and g > 230 and g <= 255 and b < 25 and b >= 0:\n",
    "    return True\n",
    "  else:\n",
    "    return False\n",
    "\n",
    "# Open the image files A (green screen) and B (background)\n",
    "image_green_pil = PILImage.open(\"img/kid-green.jpg\")\n",
    "image_green = image_green_pil.load()\n",
    "image_beach_pil = PILImage.open(\"img/beach.jpg\")\n",
    "image_beach = image_beach_pil.load()\n",
    "\n",
    "# Create an output canvas to draw to\n",
    "image_output = PILImage.open(\"img/kid-green.jpg\")\n",
    "\n",
    "# Get the width and height of the image\n",
    "width = image_output.width\n",
    "height = image_output.height\n",
    "\n",
    "# Go through every pixel in A\n",
    "for i in range(width):\n",
    "  for j in range(height):\n",
    "    im_r = image_green[i, j][0]\n",
    "    im_g = image_green[i, j][1]\n",
    "    im_b = image_green[i, j][2]\n",
    "    \n",
    "    # If the pixel is green, replace it with B's pixel\n",
    "    if is_green(im_r, im_g, im_b):\n",
    "      beach = image_beach[i, j]\n",
    "      xy = (i,j)\n",
    "      image_output.putpixel(xy, beach)\n",
    "\n",
    "# Save the resulting image as C and display it\n",
    "image_output.save(\"img/output.png\", \"png\")\n",
    "IPython.display.Image(filename='img/output.png')"
   ]
  },
  {
   "cell_type": "markdown",
   "metadata": {},
   "source": [
    "## Image Magic Exercise \n",
    "\n",
    "Can you modify the code above to get rid of the extra green bits?"
   ]
  },
  {
   "cell_type": "markdown",
   "metadata": {},
   "source": [
    "## Advanced Exercise\n",
    "\n",
    "1. Can you create another function *is_blue*?\n",
    "2. Can you use the *is_blue* function to output (print) a statement in English about the beach image?"
   ]
  },
  {
   "cell_type": "markdown",
   "metadata": {},
   "source": [
    "## Further Exploration\n",
    "\n",
    "Check out other colour spaces other than RGB, such as HSV (hue-saturation-value). The representations are closer to our human perception and make it easier to find colour ranges that are in line with our understanding of colour!\n",
    "\n",
    "#### Check out http://colorizer.org/ to learn about the RGB color space.\n",
    "\n",
    "How do you find the combination of red, green, and blue to produce a particular color?\n",
    "\n",
    "Next, explore how the HSV color model behaves, when you change each of its values.\n",
    "\n",
    "#### Now, back to Python - below you can convert RGB to HSV and use hue as a feature to classify colors more easily."
   ]
  },
  {
   "cell_type": "code",
   "execution_count": null,
   "metadata": {},
   "outputs": [],
   "source": [
    "import colorsys\n",
    "rgb = [0,1,0]\n",
    "print(\"(Hue, Saturation, Brightness Value) == \", colorsys.rgb_to_hsv(*rgb))\n",
    "\n",
    "# Note *rgb above is a shorthand for passing rgb[0], rgb[1], rgb[2] as arguments to the function."
   ]
  },
  {
   "cell_type": "markdown",
   "metadata": {},
   "source": [
    "### Check the color below at http://colorizer.org to see which color it is"
   ]
  },
  {
   "cell_type": "code",
   "execution_count": null,
   "metadata": {},
   "outputs": [],
   "source": [
    "rgb = [0,1,1]\n",
    "colorsys.rgb_to_hsv(*rgb)"
   ]
  },
  {
   "cell_type": "markdown",
   "metadata": {},
   "source": [
    "## Using other libraries to work with images: OpenCV and Numpy"
   ]
  },
  {
   "cell_type": "markdown",
   "metadata": {},
   "source": [
    "Please install the libraries shown below, if you don't already have them."
   ]
  },
  {
   "cell_type": "code",
   "execution_count": null,
   "metadata": {},
   "outputs": [],
   "source": [
    "import cv2 # conda install opencv\n",
    "import numpy as np\n",
    "from PIL import Image # conda install pillow\n",
    "import matplotlib.pyplot as plt\n",
    "\n",
    "img = cv2.imread(\"img/beach.jpg\")\n",
    "#img = cv2.imread(\"img/jellybeans.jpg\")\n",
    "\n",
    "# You may need to convert the color.\n",
    "img = cv2.cvtColor(img, cv2.COLOR_BGR2RGB)\n",
    "\n",
    "im_pil = Image.fromarray(img)\n",
    "\n",
    "# For reversing the operation:\n",
    "im_np = np.asarray(im_pil)"
   ]
  },
  {
   "cell_type": "code",
   "execution_count": null,
   "metadata": {},
   "outputs": [],
   "source": [
    "width, height, _ = im_np.shape\n",
    "num_pixels = width * height\n",
    "im_rgb = im_np.reshape(num_pixels, 3)\n",
    "\n",
    "im_hsv = np.array([colorsys.rgb_to_hsv(*p) for p in im_rgb])"
   ]
  },
  {
   "cell_type": "code",
   "execution_count": null,
   "metadata": {},
   "outputs": [],
   "source": [
    "im_rgb.shape"
   ]
  },
  {
   "cell_type": "code",
   "execution_count": null,
   "metadata": {},
   "outputs": [],
   "source": [
    "plt.rcParams[\"figure.figsize\"] = (6,6)\n",
    "plt.imshow(im_np)"
   ]
  },
  {
   "cell_type": "code",
   "execution_count": null,
   "metadata": {},
   "outputs": [],
   "source": [
    "plt.rcParams[\"figure.figsize\"] = (12,6)\n",
    "plt.rcParams.update({'font.size': 16})\n",
    "\n",
    "plt.hist(im_hsv[:,0]*360, bins=255)\n",
    "plt.grid()\n",
    "plt.xlabel(\"Hue\")\n",
    "plt.ylabel(\"Pixel count\")"
   ]
  },
  {
   "cell_type": "code",
   "execution_count": null,
   "metadata": {},
   "outputs": [],
   "source": [
    "plt.scatter(im_hsv[:,0]*360, im_hsv[:,1], c=im_rgb/255, alpha=.1, marker='.')\n",
    "plt.ylabel(\"Value (Brightness)\")\n",
    "plt.xlabel(\"Hue\")\n"
   ]
  },
  {
   "cell_type": "markdown",
   "metadata": {},
   "source": [
    "## Jellybeans!\n",
    "\n",
    "Change the code above to load the jellybeans picture instead and print a statement about the amount of jellybeans of a particular color. Use one of the above functions, or make your own `is_yellow` function using hue, if you like."
   ]
  },
  {
   "cell_type": "code",
   "execution_count": null,
   "metadata": {},
   "outputs": [],
   "source": []
  }
 ],
 "metadata": {
  "kernelspec": {
   "display_name": "Python 3",
   "language": "python",
   "name": "python3"
  },
  "language_info": {
   "codemirror_mode": {
    "name": "ipython",
    "version": 3
   },
   "file_extension": ".py",
   "mimetype": "text/x-python",
   "name": "python",
   "nbconvert_exporter": "python",
   "pygments_lexer": "ipython3",
   "version": "3.7.3"
  }
 },
 "nbformat": 4,
 "nbformat_minor": 2
}
